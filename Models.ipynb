{
  "nbformat": 4,
  "nbformat_minor": 0,
  "metadata": {
    "colab": {
      "provenance": []
    },
    "kernelspec": {
      "name": "python3",
      "display_name": "Python 3"
    },
    "language_info": {
      "name": "python"
    }
  },
  "cells": [
    {
      "cell_type": "code",
      "source": [
        "import pandas as pd\n",
        "import numpy as np\n",
        "import matplotlib.pyplot as plt\n",
        "import seaborn as sns\n",
        "\n",
        "# Importing function to split sets\n",
        "from sklearn.model_selection import train_test_split\n",
        "from sklearn.model_selection import cross_val_score, cross_validate\n",
        "\n",
        "# Importing regressors\n",
        "from sklearn.neural_network import MLPRegressor\n",
        "from sklearn.linear_model import LinearRegression\n",
        "from sklearn.ensemble import RandomForestRegressor\n",
        "from sklearn.svm import SVR\n",
        "\n",
        "# Importing metric\n",
        "from sklearn.metrics import root_mean_squared_error\n",
        "from sklearn.metrics import mean_absolute_error\n",
        "from sklearn.metrics import r2_score\n",
        "from sklearn.metrics import auc, roc_curve, roc_auc_score, confusion_matrix, ConfusionMatrixDisplay\n",
        "\n",
        "# Importing Grid Search\n",
        "from sklearn.model_selection import GridSearchCV"
      ],
      "metadata": {
        "id": "1KOMXfXlhjNJ"
      },
      "execution_count": 1,
      "outputs": []
    },
    {
      "cell_type": "code",
      "source": [
        "# Importing data\n",
        "data = pd.read_csv('/content/drive/MyDrive/ObesityDataSet_raw_and_data_sinthetic.csv', sep = ',') # When data separator needed\n",
        "\n",
        "data.head()"
      ],
      "metadata": {
        "colab": {
          "base_uri": "https://localhost:8080/",
          "height": 206
        },
        "id": "gmaYBLS8hUQJ",
        "outputId": "dedab3d8-2af0-4810-dd17-a4b2f4cb62d6"
      },
      "execution_count": 2,
      "outputs": [
        {
          "output_type": "execute_result",
          "data": {
            "text/plain": [
              "   Gender   Age  Height  Weight family_history_with_overweight FAVC  FCVC  \\\n",
              "0  Female  21.0    1.62    64.0                            yes   no   2.0   \n",
              "1  Female  21.0    1.52    56.0                            yes   no   3.0   \n",
              "2    Male  23.0    1.80    77.0                            yes   no   2.0   \n",
              "3    Male  27.0    1.80    87.0                             no   no   3.0   \n",
              "4    Male  22.0    1.78    89.8                             no   no   2.0   \n",
              "\n",
              "   NCP       CAEC SMOKE  CH2O  SCC  FAF  TUE        CALC  \\\n",
              "0  3.0  Sometimes    no   2.0   no  0.0  1.0          no   \n",
              "1  3.0  Sometimes   yes   3.0  yes  3.0  0.0   Sometimes   \n",
              "2  3.0  Sometimes    no   2.0   no  2.0  1.0  Frequently   \n",
              "3  3.0  Sometimes    no   2.0   no  2.0  0.0  Frequently   \n",
              "4  1.0  Sometimes    no   2.0   no  0.0  0.0   Sometimes   \n",
              "\n",
              "                  MTRANS           NObeyesdad  \n",
              "0  Public_Transportation        Normal_Weight  \n",
              "1  Public_Transportation        Normal_Weight  \n",
              "2  Public_Transportation        Normal_Weight  \n",
              "3                Walking   Overweight_Level_I  \n",
              "4  Public_Transportation  Overweight_Level_II  "
            ],
            "text/html": [
              "\n",
              "  <div id=\"df-529e5531-2874-4052-bf24-fc1c0866d335\" class=\"colab-df-container\">\n",
              "    <div>\n",
              "<style scoped>\n",
              "    .dataframe tbody tr th:only-of-type {\n",
              "        vertical-align: middle;\n",
              "    }\n",
              "\n",
              "    .dataframe tbody tr th {\n",
              "        vertical-align: top;\n",
              "    }\n",
              "\n",
              "    .dataframe thead th {\n",
              "        text-align: right;\n",
              "    }\n",
              "</style>\n",
              "<table border=\"1\" class=\"dataframe\">\n",
              "  <thead>\n",
              "    <tr style=\"text-align: right;\">\n",
              "      <th></th>\n",
              "      <th>Gender</th>\n",
              "      <th>Age</th>\n",
              "      <th>Height</th>\n",
              "      <th>Weight</th>\n",
              "      <th>family_history_with_overweight</th>\n",
              "      <th>FAVC</th>\n",
              "      <th>FCVC</th>\n",
              "      <th>NCP</th>\n",
              "      <th>CAEC</th>\n",
              "      <th>SMOKE</th>\n",
              "      <th>CH2O</th>\n",
              "      <th>SCC</th>\n",
              "      <th>FAF</th>\n",
              "      <th>TUE</th>\n",
              "      <th>CALC</th>\n",
              "      <th>MTRANS</th>\n",
              "      <th>NObeyesdad</th>\n",
              "    </tr>\n",
              "  </thead>\n",
              "  <tbody>\n",
              "    <tr>\n",
              "      <th>0</th>\n",
              "      <td>Female</td>\n",
              "      <td>21.0</td>\n",
              "      <td>1.62</td>\n",
              "      <td>64.0</td>\n",
              "      <td>yes</td>\n",
              "      <td>no</td>\n",
              "      <td>2.0</td>\n",
              "      <td>3.0</td>\n",
              "      <td>Sometimes</td>\n",
              "      <td>no</td>\n",
              "      <td>2.0</td>\n",
              "      <td>no</td>\n",
              "      <td>0.0</td>\n",
              "      <td>1.0</td>\n",
              "      <td>no</td>\n",
              "      <td>Public_Transportation</td>\n",
              "      <td>Normal_Weight</td>\n",
              "    </tr>\n",
              "    <tr>\n",
              "      <th>1</th>\n",
              "      <td>Female</td>\n",
              "      <td>21.0</td>\n",
              "      <td>1.52</td>\n",
              "      <td>56.0</td>\n",
              "      <td>yes</td>\n",
              "      <td>no</td>\n",
              "      <td>3.0</td>\n",
              "      <td>3.0</td>\n",
              "      <td>Sometimes</td>\n",
              "      <td>yes</td>\n",
              "      <td>3.0</td>\n",
              "      <td>yes</td>\n",
              "      <td>3.0</td>\n",
              "      <td>0.0</td>\n",
              "      <td>Sometimes</td>\n",
              "      <td>Public_Transportation</td>\n",
              "      <td>Normal_Weight</td>\n",
              "    </tr>\n",
              "    <tr>\n",
              "      <th>2</th>\n",
              "      <td>Male</td>\n",
              "      <td>23.0</td>\n",
              "      <td>1.80</td>\n",
              "      <td>77.0</td>\n",
              "      <td>yes</td>\n",
              "      <td>no</td>\n",
              "      <td>2.0</td>\n",
              "      <td>3.0</td>\n",
              "      <td>Sometimes</td>\n",
              "      <td>no</td>\n",
              "      <td>2.0</td>\n",
              "      <td>no</td>\n",
              "      <td>2.0</td>\n",
              "      <td>1.0</td>\n",
              "      <td>Frequently</td>\n",
              "      <td>Public_Transportation</td>\n",
              "      <td>Normal_Weight</td>\n",
              "    </tr>\n",
              "    <tr>\n",
              "      <th>3</th>\n",
              "      <td>Male</td>\n",
              "      <td>27.0</td>\n",
              "      <td>1.80</td>\n",
              "      <td>87.0</td>\n",
              "      <td>no</td>\n",
              "      <td>no</td>\n",
              "      <td>3.0</td>\n",
              "      <td>3.0</td>\n",
              "      <td>Sometimes</td>\n",
              "      <td>no</td>\n",
              "      <td>2.0</td>\n",
              "      <td>no</td>\n",
              "      <td>2.0</td>\n",
              "      <td>0.0</td>\n",
              "      <td>Frequently</td>\n",
              "      <td>Walking</td>\n",
              "      <td>Overweight_Level_I</td>\n",
              "    </tr>\n",
              "    <tr>\n",
              "      <th>4</th>\n",
              "      <td>Male</td>\n",
              "      <td>22.0</td>\n",
              "      <td>1.78</td>\n",
              "      <td>89.8</td>\n",
              "      <td>no</td>\n",
              "      <td>no</td>\n",
              "      <td>2.0</td>\n",
              "      <td>1.0</td>\n",
              "      <td>Sometimes</td>\n",
              "      <td>no</td>\n",
              "      <td>2.0</td>\n",
              "      <td>no</td>\n",
              "      <td>0.0</td>\n",
              "      <td>0.0</td>\n",
              "      <td>Sometimes</td>\n",
              "      <td>Public_Transportation</td>\n",
              "      <td>Overweight_Level_II</td>\n",
              "    </tr>\n",
              "  </tbody>\n",
              "</table>\n",
              "</div>\n",
              "    <div class=\"colab-df-buttons\">\n",
              "\n",
              "  <div class=\"colab-df-container\">\n",
              "    <button class=\"colab-df-convert\" onclick=\"convertToInteractive('df-529e5531-2874-4052-bf24-fc1c0866d335')\"\n",
              "            title=\"Convert this dataframe to an interactive table.\"\n",
              "            style=\"display:none;\">\n",
              "\n",
              "  <svg xmlns=\"http://www.w3.org/2000/svg\" height=\"24px\" viewBox=\"0 -960 960 960\">\n",
              "    <path d=\"M120-120v-720h720v720H120Zm60-500h600v-160H180v160Zm220 220h160v-160H400v160Zm0 220h160v-160H400v160ZM180-400h160v-160H180v160Zm440 0h160v-160H620v160ZM180-180h160v-160H180v160Zm440 0h160v-160H620v160Z\"/>\n",
              "  </svg>\n",
              "    </button>\n",
              "\n",
              "  <style>\n",
              "    .colab-df-container {\n",
              "      display:flex;\n",
              "      gap: 12px;\n",
              "    }\n",
              "\n",
              "    .colab-df-convert {\n",
              "      background-color: #E8F0FE;\n",
              "      border: none;\n",
              "      border-radius: 50%;\n",
              "      cursor: pointer;\n",
              "      display: none;\n",
              "      fill: #1967D2;\n",
              "      height: 32px;\n",
              "      padding: 0 0 0 0;\n",
              "      width: 32px;\n",
              "    }\n",
              "\n",
              "    .colab-df-convert:hover {\n",
              "      background-color: #E2EBFA;\n",
              "      box-shadow: 0px 1px 2px rgba(60, 64, 67, 0.3), 0px 1px 3px 1px rgba(60, 64, 67, 0.15);\n",
              "      fill: #174EA6;\n",
              "    }\n",
              "\n",
              "    .colab-df-buttons div {\n",
              "      margin-bottom: 4px;\n",
              "    }\n",
              "\n",
              "    [theme=dark] .colab-df-convert {\n",
              "      background-color: #3B4455;\n",
              "      fill: #D2E3FC;\n",
              "    }\n",
              "\n",
              "    [theme=dark] .colab-df-convert:hover {\n",
              "      background-color: #434B5C;\n",
              "      box-shadow: 0px 1px 3px 1px rgba(0, 0, 0, 0.15);\n",
              "      filter: drop-shadow(0px 1px 2px rgba(0, 0, 0, 0.3));\n",
              "      fill: #FFFFFF;\n",
              "    }\n",
              "  </style>\n",
              "\n",
              "    <script>\n",
              "      const buttonEl =\n",
              "        document.querySelector('#df-529e5531-2874-4052-bf24-fc1c0866d335 button.colab-df-convert');\n",
              "      buttonEl.style.display =\n",
              "        google.colab.kernel.accessAllowed ? 'block' : 'none';\n",
              "\n",
              "      async function convertToInteractive(key) {\n",
              "        const element = document.querySelector('#df-529e5531-2874-4052-bf24-fc1c0866d335');\n",
              "        const dataTable =\n",
              "          await google.colab.kernel.invokeFunction('convertToInteractive',\n",
              "                                                    [key], {});\n",
              "        if (!dataTable) return;\n",
              "\n",
              "        const docLinkHtml = 'Like what you see? Visit the ' +\n",
              "          '<a target=\"_blank\" href=https://colab.research.google.com/notebooks/data_table.ipynb>data table notebook</a>'\n",
              "          + ' to learn more about interactive tables.';\n",
              "        element.innerHTML = '';\n",
              "        dataTable['output_type'] = 'display_data';\n",
              "        await google.colab.output.renderOutput(dataTable, element);\n",
              "        const docLink = document.createElement('div');\n",
              "        docLink.innerHTML = docLinkHtml;\n",
              "        element.appendChild(docLink);\n",
              "      }\n",
              "    </script>\n",
              "  </div>\n",
              "\n",
              "\n",
              "<div id=\"df-be90e9d5-f7c5-472c-93d7-3cb6aad1dfd0\">\n",
              "  <button class=\"colab-df-quickchart\" onclick=\"quickchart('df-be90e9d5-f7c5-472c-93d7-3cb6aad1dfd0')\"\n",
              "            title=\"Suggest charts\"\n",
              "            style=\"display:none;\">\n",
              "\n",
              "<svg xmlns=\"http://www.w3.org/2000/svg\" height=\"24px\"viewBox=\"0 0 24 24\"\n",
              "     width=\"24px\">\n",
              "    <g>\n",
              "        <path d=\"M19 3H5c-1.1 0-2 .9-2 2v14c0 1.1.9 2 2 2h14c1.1 0 2-.9 2-2V5c0-1.1-.9-2-2-2zM9 17H7v-7h2v7zm4 0h-2V7h2v10zm4 0h-2v-4h2v4z\"/>\n",
              "    </g>\n",
              "</svg>\n",
              "  </button>\n",
              "\n",
              "<style>\n",
              "  .colab-df-quickchart {\n",
              "      --bg-color: #E8F0FE;\n",
              "      --fill-color: #1967D2;\n",
              "      --hover-bg-color: #E2EBFA;\n",
              "      --hover-fill-color: #174EA6;\n",
              "      --disabled-fill-color: #AAA;\n",
              "      --disabled-bg-color: #DDD;\n",
              "  }\n",
              "\n",
              "  [theme=dark] .colab-df-quickchart {\n",
              "      --bg-color: #3B4455;\n",
              "      --fill-color: #D2E3FC;\n",
              "      --hover-bg-color: #434B5C;\n",
              "      --hover-fill-color: #FFFFFF;\n",
              "      --disabled-bg-color: #3B4455;\n",
              "      --disabled-fill-color: #666;\n",
              "  }\n",
              "\n",
              "  .colab-df-quickchart {\n",
              "    background-color: var(--bg-color);\n",
              "    border: none;\n",
              "    border-radius: 50%;\n",
              "    cursor: pointer;\n",
              "    display: none;\n",
              "    fill: var(--fill-color);\n",
              "    height: 32px;\n",
              "    padding: 0;\n",
              "    width: 32px;\n",
              "  }\n",
              "\n",
              "  .colab-df-quickchart:hover {\n",
              "    background-color: var(--hover-bg-color);\n",
              "    box-shadow: 0 1px 2px rgba(60, 64, 67, 0.3), 0 1px 3px 1px rgba(60, 64, 67, 0.15);\n",
              "    fill: var(--button-hover-fill-color);\n",
              "  }\n",
              "\n",
              "  .colab-df-quickchart-complete:disabled,\n",
              "  .colab-df-quickchart-complete:disabled:hover {\n",
              "    background-color: var(--disabled-bg-color);\n",
              "    fill: var(--disabled-fill-color);\n",
              "    box-shadow: none;\n",
              "  }\n",
              "\n",
              "  .colab-df-spinner {\n",
              "    border: 2px solid var(--fill-color);\n",
              "    border-color: transparent;\n",
              "    border-bottom-color: var(--fill-color);\n",
              "    animation:\n",
              "      spin 1s steps(1) infinite;\n",
              "  }\n",
              "\n",
              "  @keyframes spin {\n",
              "    0% {\n",
              "      border-color: transparent;\n",
              "      border-bottom-color: var(--fill-color);\n",
              "      border-left-color: var(--fill-color);\n",
              "    }\n",
              "    20% {\n",
              "      border-color: transparent;\n",
              "      border-left-color: var(--fill-color);\n",
              "      border-top-color: var(--fill-color);\n",
              "    }\n",
              "    30% {\n",
              "      border-color: transparent;\n",
              "      border-left-color: var(--fill-color);\n",
              "      border-top-color: var(--fill-color);\n",
              "      border-right-color: var(--fill-color);\n",
              "    }\n",
              "    40% {\n",
              "      border-color: transparent;\n",
              "      border-right-color: var(--fill-color);\n",
              "      border-top-color: var(--fill-color);\n",
              "    }\n",
              "    60% {\n",
              "      border-color: transparent;\n",
              "      border-right-color: var(--fill-color);\n",
              "    }\n",
              "    80% {\n",
              "      border-color: transparent;\n",
              "      border-right-color: var(--fill-color);\n",
              "      border-bottom-color: var(--fill-color);\n",
              "    }\n",
              "    90% {\n",
              "      border-color: transparent;\n",
              "      border-bottom-color: var(--fill-color);\n",
              "    }\n",
              "  }\n",
              "</style>\n",
              "\n",
              "  <script>\n",
              "    async function quickchart(key) {\n",
              "      const quickchartButtonEl =\n",
              "        document.querySelector('#' + key + ' button');\n",
              "      quickchartButtonEl.disabled = true;  // To prevent multiple clicks.\n",
              "      quickchartButtonEl.classList.add('colab-df-spinner');\n",
              "      try {\n",
              "        const charts = await google.colab.kernel.invokeFunction(\n",
              "            'suggestCharts', [key], {});\n",
              "      } catch (error) {\n",
              "        console.error('Error during call to suggestCharts:', error);\n",
              "      }\n",
              "      quickchartButtonEl.classList.remove('colab-df-spinner');\n",
              "      quickchartButtonEl.classList.add('colab-df-quickchart-complete');\n",
              "    }\n",
              "    (() => {\n",
              "      let quickchartButtonEl =\n",
              "        document.querySelector('#df-be90e9d5-f7c5-472c-93d7-3cb6aad1dfd0 button');\n",
              "      quickchartButtonEl.style.display =\n",
              "        google.colab.kernel.accessAllowed ? 'block' : 'none';\n",
              "    })();\n",
              "  </script>\n",
              "</div>\n",
              "\n",
              "    </div>\n",
              "  </div>\n"
            ],
            "application/vnd.google.colaboratory.intrinsic+json": {
              "type": "dataframe",
              "variable_name": "data",
              "summary": "{\n  \"name\": \"data\",\n  \"rows\": 2111,\n  \"fields\": [\n    {\n      \"column\": \"Gender\",\n      \"properties\": {\n        \"dtype\": \"category\",\n        \"num_unique_values\": 2,\n        \"samples\": [\n          \"Male\",\n          \"Female\"\n        ],\n        \"semantic_type\": \"\",\n        \"description\": \"\"\n      }\n    },\n    {\n      \"column\": \"Age\",\n      \"properties\": {\n        \"dtype\": \"number\",\n        \"std\": 6.3459682737322405,\n        \"min\": 14.0,\n        \"max\": 61.0,\n        \"num_unique_values\": 1402,\n        \"samples\": [\n          25.526746,\n          26.740655\n        ],\n        \"semantic_type\": \"\",\n        \"description\": \"\"\n      }\n    },\n    {\n      \"column\": \"Height\",\n      \"properties\": {\n        \"dtype\": \"number\",\n        \"std\": 0.09330481986792,\n        \"min\": 1.45,\n        \"max\": 1.98,\n        \"num_unique_values\": 1574,\n        \"samples\": [\n          1.760175,\n          1.688436\n        ],\n        \"semantic_type\": \"\",\n        \"description\": \"\"\n      }\n    },\n    {\n      \"column\": \"Weight\",\n      \"properties\": {\n        \"dtype\": \"number\",\n        \"std\": 26.191171745204688,\n        \"min\": 39.0,\n        \"max\": 173.0,\n        \"num_unique_values\": 1525,\n        \"samples\": [\n          120.702935,\n          64.4\n        ],\n        \"semantic_type\": \"\",\n        \"description\": \"\"\n      }\n    },\n    {\n      \"column\": \"family_history_with_overweight\",\n      \"properties\": {\n        \"dtype\": \"category\",\n        \"num_unique_values\": 2,\n        \"samples\": [\n          \"no\",\n          \"yes\"\n        ],\n        \"semantic_type\": \"\",\n        \"description\": \"\"\n      }\n    },\n    {\n      \"column\": \"FAVC\",\n      \"properties\": {\n        \"dtype\": \"category\",\n        \"num_unique_values\": 2,\n        \"samples\": [\n          \"yes\",\n          \"no\"\n        ],\n        \"semantic_type\": \"\",\n        \"description\": \"\"\n      }\n    },\n    {\n      \"column\": \"FCVC\",\n      \"properties\": {\n        \"dtype\": \"number\",\n        \"std\": 0.5339265785033023,\n        \"min\": 1.0,\n        \"max\": 3.0,\n        \"num_unique_values\": 810,\n        \"samples\": [\n          2.987148,\n          2.939727\n        ],\n        \"semantic_type\": \"\",\n        \"description\": \"\"\n      }\n    },\n    {\n      \"column\": \"NCP\",\n      \"properties\": {\n        \"dtype\": \"number\",\n        \"std\": 0.7780386488418594,\n        \"min\": 1.0,\n        \"max\": 4.0,\n        \"num_unique_values\": 635,\n        \"samples\": [\n          1.468948,\n          2.9948\n        ],\n        \"semantic_type\": \"\",\n        \"description\": \"\"\n      }\n    },\n    {\n      \"column\": \"CAEC\",\n      \"properties\": {\n        \"dtype\": \"category\",\n        \"num_unique_values\": 4,\n        \"samples\": [\n          \"Frequently\",\n          \"no\"\n        ],\n        \"semantic_type\": \"\",\n        \"description\": \"\"\n      }\n    },\n    {\n      \"column\": \"SMOKE\",\n      \"properties\": {\n        \"dtype\": \"category\",\n        \"num_unique_values\": 2,\n        \"samples\": [\n          \"yes\",\n          \"no\"\n        ],\n        \"semantic_type\": \"\",\n        \"description\": \"\"\n      }\n    },\n    {\n      \"column\": \"CH2O\",\n      \"properties\": {\n        \"dtype\": \"number\",\n        \"std\": 0.6129534517968702,\n        \"min\": 1.0,\n        \"max\": 3.0,\n        \"num_unique_values\": 1268,\n        \"samples\": [\n          2.395387,\n          1.983973\n        ],\n        \"semantic_type\": \"\",\n        \"description\": \"\"\n      }\n    },\n    {\n      \"column\": \"SCC\",\n      \"properties\": {\n        \"dtype\": \"category\",\n        \"num_unique_values\": 2,\n        \"samples\": [\n          \"yes\",\n          \"no\"\n        ],\n        \"semantic_type\": \"\",\n        \"description\": \"\"\n      }\n    },\n    {\n      \"column\": \"FAF\",\n      \"properties\": {\n        \"dtype\": \"number\",\n        \"std\": 0.8505924308367011,\n        \"min\": 0.0,\n        \"max\": 3.0,\n        \"num_unique_values\": 1190,\n        \"samples\": [\n          1.655488,\n          2.433918\n        ],\n        \"semantic_type\": \"\",\n        \"description\": \"\"\n      }\n    },\n    {\n      \"column\": \"TUE\",\n      \"properties\": {\n        \"dtype\": \"number\",\n        \"std\": 0.6089272596763761,\n        \"min\": 0.0,\n        \"max\": 2.0,\n        \"num_unique_values\": 1129,\n        \"samples\": [\n          1.416353,\n          0.878258\n        ],\n        \"semantic_type\": \"\",\n        \"description\": \"\"\n      }\n    },\n    {\n      \"column\": \"CALC\",\n      \"properties\": {\n        \"dtype\": \"category\",\n        \"num_unique_values\": 4,\n        \"samples\": [\n          \"Sometimes\",\n          \"Always\"\n        ],\n        \"semantic_type\": \"\",\n        \"description\": \"\"\n      }\n    },\n    {\n      \"column\": \"MTRANS\",\n      \"properties\": {\n        \"dtype\": \"category\",\n        \"num_unique_values\": 5,\n        \"samples\": [\n          \"Walking\",\n          \"Bike\"\n        ],\n        \"semantic_type\": \"\",\n        \"description\": \"\"\n      }\n    },\n    {\n      \"column\": \"NObeyesdad\",\n      \"properties\": {\n        \"dtype\": \"category\",\n        \"num_unique_values\": 7,\n        \"samples\": [\n          \"Normal_Weight\",\n          \"Overweight_Level_I\"\n        ],\n        \"semantic_type\": \"\",\n        \"description\": \"\"\n      }\n    }\n  ]\n}"
            }
          },
          "metadata": {},
          "execution_count": 2
        }
      ]
    },
    {
      "cell_type": "code",
      "source": [
        "# Preprocessing\n",
        "# Getting rid of synthetically generated data\n",
        "data = data[data['FAF'].isin([0, 1, 2, 3])]\n",
        "data = data[data['FCVC'].isin([1, 2, 3])]\n",
        "\n",
        "# Importing OriginalEncoder and OneHotEncoder to manage categorical and binary variables\n",
        "from sklearn.preprocessing import OrdinalEncoder, OneHotEncoder\n",
        "\n",
        "# Identify categorical features\n",
        "categorical_features = ['Gender', 'family_history_with_overweight', 'FAVC', 'CAEC', 'SMOKE', 'SCC', 'CALC', 'MTRANS', 'NObeyesdad']\n",
        "\n",
        "# Using OrdinalEncoder:\n",
        "ordinal_encoder = OrdinalEncoder()\n",
        "data[categorical_features] = ordinal_encoder.fit_transform(data[categorical_features])"
      ],
      "metadata": {
        "id": "rEtcTLjPhO0i"
      },
      "execution_count": 3,
      "outputs": []
    },
    {
      "cell_type": "code",
      "source": [
        "# PREPROCESSING\n",
        "\n",
        "# MLP with all values\n",
        "# Creating two sets\n",
        "X_all = data.drop(columns=['FAF'], axis = 1)\n",
        "y_all = data['FAF']\n",
        "\n",
        "# Splitting dataset into train, validation and test sets\n",
        "X_train_all, X_temp_all, y_train_all, y_temp_all = train_test_split(X_all, y_all, test_size=0.4, random_state=42)\n",
        "X_val_all, X_test_all, y_val_all, y_test_all = train_test_split(X_temp_all, y_temp_all, test_size=0.5, random_state=42)\n",
        "\n",
        "\n",
        "# MLP with selected values\n",
        "# Creating two sets\n",
        "X = data.drop(columns=['FAF', 'Gender', 'Age', 'Height', 'family_history_with_overweight', 'NCP', 'TUE', 'MTRANS', 'NObeyesdad'], axis = 1)\n",
        "y = data['FAF']\n",
        "\n",
        "# Splitting dataset into train, validation and test sets\n",
        "X_train, X_temp, y_train, y_temp = train_test_split(X, y, test_size=0.4, random_state=42)\n",
        "X_val, X_test, y_val, y_test = train_test_split(X_temp, y_temp, test_size=0.5, random_state=42)\n"
      ],
      "metadata": {
        "id": "A_49EztThLMN"
      },
      "execution_count": 4,
      "outputs": []
    },
    {
      "cell_type": "code",
      "source": [
        "# Importing MLP\n",
        "from sklearn.neural_network import MLPRegressor\n",
        "\n",
        "# Creating models\n",
        "reg_all = MLPRegressor(hidden_layer_sizes=(5, 5), max_iter=1000, solver='lbfgs')\n",
        "reg_mlp = MLPRegressor(hidden_layer_sizes=(5, 5), max_iter=1000, solver='lbfgs')\n",
        "\n",
        "# Training models\n",
        "reg_all.fit(X_train_all, y_train_all)\n",
        "reg_mlp.fit(X_train, y_train)\n",
        "\n",
        "# Making predictions\n",
        "y_pred_train_all = reg_all.predict(X_train_all)\n",
        "y_pred_all = reg_all.predict(X_val_all)\n",
        "\n",
        "y_pred_train = reg_mlp.predict(X_train)\n",
        "y_pred = reg_mlp.predict(X_val)\n",
        "\n",
        "# Calculating RMSE for training set\n",
        "rmse_mlp_all_train = root_mean_squared_error(y_train_all, y_pred_train_all)\n",
        "rmse_mlp_train = root_mean_squared_error(y_train, y_pred_train)\n",
        "print(f'RMSE train with all features: {rmse_mlp_all_train}')\n",
        "print(f'\\nRMSE train with selected features: {rmse_mlp_train}')\n",
        "\n",
        "# Calculating RMSE for validation set\n",
        "rmse_mlp_all = root_mean_squared_error(y_val_all, y_pred_all)\n",
        "rmse_mlp = root_mean_squared_error(y_val, y_pred)\n",
        "print(f'\\nRMSE with all features: {rmse_mlp_all}')\n",
        "print(f'\\nRMSE with selected features: {rmse_mlp}')\n"
      ],
      "metadata": {
        "colab": {
          "base_uri": "https://localhost:8080/"
        },
        "id": "ru_nW0LP6_75",
        "outputId": "671ebacc-1a79-4c8c-a187-efbcae3d1184"
      },
      "execution_count": null,
      "outputs": [
        {
          "output_type": "stream",
          "name": "stdout",
          "text": [
            "RMSE train with all features: 0.8087054398732667\n",
            "\n",
            "RMSE train with selected features: 0.9774950904151459\n",
            "\n",
            "RMSE with all features: 0.9320928379889755\n",
            "\n",
            "RMSE with selected features: 1.0163442965680676\n"
          ]
        }
      ]
    },
    {
      "cell_type": "code",
      "source": [
        "from sklearn.preprocessing import (MinMaxScaler,StandardScaler,)\n",
        "\n",
        "standard_scaler = StandardScaler().set_output(transform=\"pandas\")\n",
        "data_standardized = standard_scaler.fit_transform(data)\n",
        "\n",
        "minmax_scaler = MinMaxScaler().set_output(transform=\"pandas\")\n",
        "data_normalized = minmax_scaler.fit_transform(data)"
      ],
      "metadata": {
        "id": "ImaFvUjz8yJX"
      },
      "execution_count": 5,
      "outputs": []
    },
    {
      "cell_type": "code",
      "source": [
        "# PREPROCESSING\n",
        "\n",
        "# MLP with selected values\n",
        "# Creating two sets\n",
        "X_standarized = data_standardized.drop(columns=['FAF', 'Gender', 'Age', 'Height', 'family_history_with_overweight', 'NCP', 'TUE', 'MTRANS', 'NObeyesdad'], axis = 1)\n",
        "y_standarized = data_standardized['FAF']\n",
        "\n",
        "# Splitting dataset into train, validation and test sets\n",
        "X_train_standarized, X_temp_standarized, y_train_standarized, y_temp_standarized = train_test_split(X_standarized, y_standarized, test_size=0.4, random_state=42)\n",
        "X_val_standarized, X_test_standarized, y_val_standarized, y_test_standarized = train_test_split(X_temp_standarized, y_temp_standarized, test_size=0.5, random_state=42)\n",
        "\n",
        "# Use the normalized data\n",
        "X_normalized = data_normalized.drop(columns=['FAF', 'Gender', 'Age', 'Height', 'family_history_with_overweight', 'NCP', 'TUE', 'MTRANS', 'NObeyesdad'], axis = 1)\n",
        "y_normalized = data_normalized['FAF']\n",
        "\n",
        "# Splitting dataset into train, validation and test sets\n",
        "X_train_normalized, X_temp_normalized, y_train_normalized, y_temp_normalized = train_test_split(X_normalized, y_normalized, test_size=0.4, random_state=42)\n",
        "X_val_normalized, X_test_normalized, y_val_normalized, y_test_normalized = train_test_split(X_temp_normalized, y_temp_normalized, test_size=0.5, random_state=42)\n",
        "\n"
      ],
      "metadata": {
        "id": "NVV3u4hN9EDM"
      },
      "execution_count": 6,
      "outputs": []
    },
    {
      "cell_type": "code",
      "source": [
        "# Importing MLP\n",
        "from sklearn.neural_network import MLPRegressor\n",
        "\n",
        "# Creating models\n",
        "reg_standarized = MLPRegressor(hidden_layer_sizes=(5, 5), max_iter=1000, solver='lbfgs')\n",
        "reg_mlp = MLPRegressor(hidden_layer_sizes=(5, 5), max_iter=1000, solver='lbfgs')\n",
        "reg_normalized = MLPRegressor(hidden_layer_sizes=(5, 5), max_iter=1000, solver='lbfgs')\n",
        "\n",
        "\n",
        "# Training models\n",
        "reg_standarized.fit(X_train_standarized, y_train_standarized)\n",
        "reg_mlp.fit(X_train, y_train)\n",
        "reg_normalized.fit(X_train_normalized, y_train_normalized)\n",
        "\n",
        "# Making predictions\n",
        "y_pred_train_standarized = reg_standarized.predict(X_train_standarized)\n",
        "y_pred_standarized = reg_standarized.predict(X_val_standarized)\n",
        "\n",
        "y_pred_train = reg_mlp.predict(X_train)\n",
        "y_pred = reg_mlp.predict(X_val)\n",
        "\n",
        "y_pred_train_normalized = reg_normalized.predict(X_train_normalized)\n",
        "y_pred_normalized = reg_normalized.predict(X_val_normalized)\n",
        "\n",
        "# Calculating RMSE for training set\n",
        "rmse_mlp_standarized_train = root_mean_squared_error(y_train_standarized, y_pred_train_standarized)\n",
        "rmse_mlp_train = root_mean_squared_error(y_train, y_pred_train)\n",
        "rmse_mlp_normalized_train = root_mean_squared_error(y_train_normalized, y_pred_train_normalized)\n",
        "print(f'\\nRMSE train with selected features: {rmse_mlp_train}')\n",
        "print(f'\\nRMSE train with standarized features: {rmse_mlp_standarized_train}')\n",
        "print(f'\\nRMSE train with normalized features: {rmse_mlp_normalized_train}')\n",
        "\n",
        "# Calculating RMSE for validation set\n",
        "rmse_mlp_standarized = root_mean_squared_error(y_val_standarized, y_pred_standarized)\n",
        "rmse_mlp = root_mean_squared_error(y_val, y_pred)\n",
        "rmse_mlp_normalized = root_mean_squared_error(y_val_normalized, y_pred_normalized)\n",
        "print(f'\\nRMSE with selected features: {rmse_mlp}')\n",
        "print(f'\\nRMSE with standarized features: {rmse_mlp_all}')\n",
        "print(f'\\nRMSE with normalized features: {rmse_mlp_normalized}')"
      ],
      "metadata": {
        "colab": {
          "base_uri": "https://localhost:8080/"
        },
        "id": "GxZPqauc_cYg",
        "outputId": "1b8da741-a336-4346-9080-e184f36130c7"
      },
      "execution_count": null,
      "outputs": [
        {
          "output_type": "stream",
          "name": "stdout",
          "text": [
            "\n",
            "RMSE train with selected features: 0.8799259991602478\n",
            "\n",
            "RMSE train with standarized features: 0.6943495563681574\n",
            "\n",
            "RMSE train with normalized features: 0.2590099981413185\n",
            "\n",
            "RMSE with selected features: 0.9952019003334249\n",
            "\n",
            "RMSE with standarized features: 0.9320928379889755\n",
            "\n",
            "RMSE with normalized features: 0.35518180573390484\n"
          ]
        }
      ]
    },
    {
      "cell_type": "code",
      "source": [
        "def predict(model_name, X_train, X_val, y_train, y_val, X_test=None, y_test=None, sample_weight=None, predict_on_test_set=False, calc_rmse=False, calc_r2=False, calc_mae=False, **kwargs):\n",
        "\n",
        "  # Creating model\n",
        "  model = model_name(**kwargs)\n",
        "\n",
        "  if sample_weight is not None:\n",
        "    # Training model\n",
        "    model.fit(X_train, y_train, sample_weight=sample_weight)\n",
        "    model.fit(X_val, y_val, sample_weight=sample_weight)\n",
        "  else:\n",
        "    # Training model\n",
        "    model.fit(X_train, y_train)\n",
        "    model.fit(X_val, y_val)\n",
        "\n",
        "  # Making train and validation predictions\n",
        "  y_pred_train = model.predict(X_train)\n",
        "  y_pred_val = model.predict(X_val)\n",
        "\n",
        "  if predict_on_test_set == True:\n",
        "    # Retraining model\n",
        "    model.fit(X_train, y_train)\n",
        "    model.fit(X_val, y_val)\n",
        "\n",
        "    # Making test predictions\n",
        "    y_pred = model.predict(X_test)\n",
        "\n",
        "  print(f\"Calculations for {model}\")\n",
        "\n",
        "  # Calculating metrics\n",
        "  if calc_rmse == True:\n",
        "    rmse_train = root_mean_squared_error(y_train, y_pred_train)\n",
        "    rmse_validation = root_mean_squared_error(y_val, y_pred_val)\n",
        "    print(f'\\nRMSE train: {rmse_train}')\n",
        "    print(f'RMSE validation: {rmse_validation}')\n",
        "    if predict_on_test_set == True:\n",
        "      rmse_test = root_mean_squared_error(y_test, y_pred)\n",
        "      print(f'RMSE test: {rmse_test}')\n",
        "\n",
        "  if calc_r2 == True:\n",
        "    r2_train = r2_score(y_train, y_pred_train)\n",
        "    r2_validation = r2_score(y_val, y_pred_val)\n",
        "    print(f'\\nR2 train: {r2_train}')\n",
        "    print(f'R2 validation: {r2_validation}')\n",
        "    if predict_on_test_set == True:\n",
        "      r2_test = r2_score(y_test, y_test)\n",
        "      print(f'R2 test: {r2_test}')\n",
        "\n",
        "  if calc_mae == True:\n",
        "    mae_train = mean_absolute_error(y_train, y_pred_train)\n",
        "    mae_validation = mean_absolute_error(y_val, y_pred_val)\n",
        "    print(f'\\nMAE train: {mae_train}')\n",
        "    print(f'MAE validation: {mae_validation}')\n",
        "    if predict_on_test_set == True:\n",
        "      mae_test = mean_absolute_error(y_test, y_pred)\n",
        "      print(f'MAE test: {mae_test}')\n",
        "\n",
        "  return model"
      ],
      "metadata": {
        "id": "Wl88J37jhE1I"
      },
      "execution_count": 7,
      "outputs": []
    },
    {
      "cell_type": "code",
      "source": [
        "# Function to print RMSE\n",
        "def print_scores(scores):\n",
        "  print(f\"Mean: {np.abs(np.mean(scores))}\")\n",
        "\n",
        "# Function to cross-validation\n",
        "def cross_validation(model, X_normalized, y_normalized, cv=5, scoring='neg_root_mean_squared_error'):\n",
        "  scores = cross_val_score(model, X_normalized, y_normalized, cv=cv, scoring=scoring)\n",
        "  return scores\n"
      ],
      "metadata": {
        "id": "0UWbWwnMYy2y"
      },
      "execution_count": 8,
      "outputs": []
    },
    {
      "cell_type": "code",
      "source": [
        "reg = predict(model_name=MLPRegressor,\n",
        "                   X_train=X_train_normalized,\n",
        "                   X_val=X_val_normalized,\n",
        "                   y_train=y_train_normalized,\n",
        "                   y_val=y_val_normalized,\n",
        "                   X_test=X_test_normalized,\n",
        "                   y_test=y_test_normalized,\n",
        "                   predict_on_test_set=True,\n",
        "                   calc_rmse=True,\n",
        "                   calc_r2=True,\n",
        "                   calc_mae=True,\n",
        "                   hidden_layer_sizes=(5, 5),\n",
        "                   max_iter=1000,\n",
        "                   solver='lbfgs'\n",
        "                   )"
      ],
      "metadata": {
        "colab": {
          "base_uri": "https://localhost:8080/"
        },
        "id": "e2VxRj92Arz8",
        "outputId": "8d77428d-9e65-4123-e8ae-4b656d98cf55"
      },
      "execution_count": 45,
      "outputs": [
        {
          "output_type": "stream",
          "name": "stdout",
          "text": [
            "Calculations for MLPRegressor(hidden_layer_sizes=(5, 5), max_iter=1000, solver='lbfgs')\n",
            "\n",
            "RMSE train: 0.31856372124283006\n",
            "RMSE validation: 0.28614133499144145\n",
            "RMSE test: 0.42354808272435257\n",
            "\n",
            "R2 train: 0.04411428473163459\n",
            "R2 validation: 0.28212396617970315\n",
            "R2 test: 1.0\n",
            "\n",
            "MAE train: 0.2629384868777493\n",
            "MAE validation: 0.23286994055017057\n",
            "MAE test: 0.315252793059838\n"
          ]
        }
      ]
    },
    {
      "cell_type": "code",
      "source": [
        "# regressor part\n",
        "for iter in [3, 5, 10]:\n",
        "  scores_regressor = cross_validation(reg_mlp, X_train_normalized, y_train_normalized, cv=iter, scoring='neg_root_mean_squared_error')\n",
        "  print(f\"\\nRegression scores for {iter}-fold:\")\n",
        "  print_scores(scores_regressor)"
      ],
      "metadata": {
        "colab": {
          "base_uri": "https://localhost:8080/"
        },
        "id": "M-3VvLuEY05d",
        "outputId": "390cb5c3-c481-4e1f-fad1-fe2e1ff88d54"
      },
      "execution_count": null,
      "outputs": [
        {
          "output_type": "stream",
          "name": "stdout",
          "text": [
            "\n",
            "Regression scores for 3-fold:\n",
            "Mean: 0.32329399027810196\n",
            "\n",
            "Regression scores for 5-fold:\n",
            "Mean: 0.3225392163459206\n",
            "\n",
            "Regression scores for 10-fold:\n",
            "Mean: 0.31618845461314327\n"
          ]
        }
      ]
    },
    {
      "cell_type": "code",
      "source": [
        "# R2 metric\n",
        "for iter in [3, 5, 10]:\n",
        "  scores_regressor = cross_validation(reg_mlp, X_train_normalized, y_train_normalized, cv=iter, scoring='r2')\n",
        "  print(f\"\\nRegression scores for {iter}-fold:\")\n",
        "  print_scores(scores_regressor)"
      ],
      "metadata": {
        "colab": {
          "base_uri": "https://localhost:8080/"
        },
        "id": "2ymVsxIbZCyy",
        "outputId": "7153ee8a-2838-4eab-ffad-476ec4e96470"
      },
      "execution_count": null,
      "outputs": [
        {
          "output_type": "stream",
          "name": "stdout",
          "text": [
            "\n",
            "Regression scores for 3-fold:\n",
            "Mean: 0.11033369900581143\n",
            "\n",
            "Regression scores for 5-fold:\n",
            "Mean: 0.009351993263133917\n",
            "\n",
            "Regression scores for 10-fold:\n",
            "Mean: 0.06841757714809014\n"
          ]
        }
      ]
    },
    {
      "cell_type": "code",
      "source": [
        "# Mean absolute error metric\n",
        "for iter in [3, 5, 10]:\n",
        "  scores_regressor = cross_validation(reg_mlp, X_train_normalized, y_train_normalized, cv=iter, scoring='neg_mean_absolute_error')\n",
        "  print(f\"\\nRegression scores for {iter}-fold:\")\n",
        "  print_scores(scores_regressor)\n"
      ],
      "metadata": {
        "colab": {
          "base_uri": "https://localhost:8080/"
        },
        "id": "w96cwKxRZEv1",
        "outputId": "3d19ec80-c44e-46e6-b48b-dfd4eadbbc94"
      },
      "execution_count": null,
      "outputs": [
        {
          "output_type": "stream",
          "name": "stdout",
          "text": [
            "\n",
            "Regression scores for 3-fold:\n",
            "Mean: 0.25440320977503933\n",
            "\n",
            "Regression scores for 5-fold:\n",
            "Mean: 0.24689158076225315\n",
            "\n",
            "Regression scores for 10-fold:\n",
            "Mean: 0.2433033986147731\n"
          ]
        }
      ]
    },
    {
      "cell_type": "code",
      "source": [
        "reg = MLPRegressor()\n",
        "parameters = {'hidden_layer_sizes': [(5, 5), (5, 10), (10, 10)],\n",
        "              'activation': ['relu', 'tanh'],\n",
        "              'max_iter': [3000, 4000],\n",
        "              'solver': [ 'lbfgs', 'sgd', 'adam'],\n",
        "              }\n",
        "\n",
        "grid_search = GridSearchCV(reg, parameters, cv=5, scoring='neg_root_mean_squared_error')\n",
        "grid_search.fit(X_train_normalized, y_train_normalized)\n",
        "print(grid_search.best_params_) # to get the best parameters"
      ],
      "metadata": {
        "colab": {
          "base_uri": "https://localhost:8080/"
        },
        "id": "fYQtVZCmZIha",
        "outputId": "9e82e8b4-213b-448e-f8e4-609ec7d6ed8f"
      },
      "execution_count": null,
      "outputs": [
        {
          "output_type": "stream",
          "name": "stderr",
          "text": [
            "/usr/local/lib/python3.10/dist-packages/sklearn/neural_network/_multilayer_perceptron.py:545: ConvergenceWarning: lbfgs failed to converge (status=1):\n",
            "STOP: TOTAL NO. of ITERATIONS REACHED LIMIT.\n",
            "\n",
            "Increase the number of iterations (max_iter) or scale the data as shown in:\n",
            "    https://scikit-learn.org/stable/modules/preprocessing.html\n",
            "  self.n_iter_ = _check_optimize_result(\"lbfgs\", opt_res, self.max_iter)\n",
            "/usr/local/lib/python3.10/dist-packages/sklearn/neural_network/_multilayer_perceptron.py:545: ConvergenceWarning: lbfgs failed to converge (status=1):\n",
            "STOP: TOTAL NO. of ITERATIONS REACHED LIMIT.\n",
            "\n",
            "Increase the number of iterations (max_iter) or scale the data as shown in:\n",
            "    https://scikit-learn.org/stable/modules/preprocessing.html\n",
            "  self.n_iter_ = _check_optimize_result(\"lbfgs\", opt_res, self.max_iter)\n",
            "/usr/local/lib/python3.10/dist-packages/sklearn/neural_network/_multilayer_perceptron.py:545: ConvergenceWarning: lbfgs failed to converge (status=1):\n",
            "STOP: TOTAL NO. of ITERATIONS REACHED LIMIT.\n",
            "\n",
            "Increase the number of iterations (max_iter) or scale the data as shown in:\n",
            "    https://scikit-learn.org/stable/modules/preprocessing.html\n",
            "  self.n_iter_ = _check_optimize_result(\"lbfgs\", opt_res, self.max_iter)\n",
            "/usr/local/lib/python3.10/dist-packages/sklearn/neural_network/_multilayer_perceptron.py:545: ConvergenceWarning: lbfgs failed to converge (status=1):\n",
            "STOP: TOTAL NO. of ITERATIONS REACHED LIMIT.\n",
            "\n",
            "Increase the number of iterations (max_iter) or scale the data as shown in:\n",
            "    https://scikit-learn.org/stable/modules/preprocessing.html\n",
            "  self.n_iter_ = _check_optimize_result(\"lbfgs\", opt_res, self.max_iter)\n",
            "/usr/local/lib/python3.10/dist-packages/sklearn/neural_network/_multilayer_perceptron.py:545: ConvergenceWarning: lbfgs failed to converge (status=1):\n",
            "STOP: TOTAL NO. of ITERATIONS REACHED LIMIT.\n",
            "\n",
            "Increase the number of iterations (max_iter) or scale the data as shown in:\n",
            "    https://scikit-learn.org/stable/modules/preprocessing.html\n",
            "  self.n_iter_ = _check_optimize_result(\"lbfgs\", opt_res, self.max_iter)\n",
            "/usr/local/lib/python3.10/dist-packages/sklearn/neural_network/_multilayer_perceptron.py:545: ConvergenceWarning: lbfgs failed to converge (status=1):\n",
            "STOP: TOTAL NO. of ITERATIONS REACHED LIMIT.\n",
            "\n",
            "Increase the number of iterations (max_iter) or scale the data as shown in:\n",
            "    https://scikit-learn.org/stable/modules/preprocessing.html\n",
            "  self.n_iter_ = _check_optimize_result(\"lbfgs\", opt_res, self.max_iter)\n",
            "/usr/local/lib/python3.10/dist-packages/sklearn/neural_network/_multilayer_perceptron.py:545: ConvergenceWarning: lbfgs failed to converge (status=1):\n",
            "STOP: TOTAL NO. of ITERATIONS REACHED LIMIT.\n",
            "\n",
            "Increase the number of iterations (max_iter) or scale the data as shown in:\n",
            "    https://scikit-learn.org/stable/modules/preprocessing.html\n",
            "  self.n_iter_ = _check_optimize_result(\"lbfgs\", opt_res, self.max_iter)\n",
            "/usr/local/lib/python3.10/dist-packages/sklearn/neural_network/_multilayer_perceptron.py:545: ConvergenceWarning: lbfgs failed to converge (status=1):\n",
            "STOP: TOTAL NO. of ITERATIONS REACHED LIMIT.\n",
            "\n",
            "Increase the number of iterations (max_iter) or scale the data as shown in:\n",
            "    https://scikit-learn.org/stable/modules/preprocessing.html\n",
            "  self.n_iter_ = _check_optimize_result(\"lbfgs\", opt_res, self.max_iter)\n",
            "/usr/local/lib/python3.10/dist-packages/sklearn/neural_network/_multilayer_perceptron.py:545: ConvergenceWarning: lbfgs failed to converge (status=1):\n",
            "STOP: TOTAL NO. of ITERATIONS REACHED LIMIT.\n",
            "\n",
            "Increase the number of iterations (max_iter) or scale the data as shown in:\n",
            "    https://scikit-learn.org/stable/modules/preprocessing.html\n",
            "  self.n_iter_ = _check_optimize_result(\"lbfgs\", opt_res, self.max_iter)\n",
            "/usr/local/lib/python3.10/dist-packages/sklearn/neural_network/_multilayer_perceptron.py:545: ConvergenceWarning: lbfgs failed to converge (status=1):\n",
            "STOP: TOTAL NO. of ITERATIONS REACHED LIMIT.\n",
            "\n",
            "Increase the number of iterations (max_iter) or scale the data as shown in:\n",
            "    https://scikit-learn.org/stable/modules/preprocessing.html\n",
            "  self.n_iter_ = _check_optimize_result(\"lbfgs\", opt_res, self.max_iter)\n",
            "/usr/local/lib/python3.10/dist-packages/sklearn/neural_network/_multilayer_perceptron.py:545: ConvergenceWarning: lbfgs failed to converge (status=1):\n",
            "STOP: TOTAL NO. of ITERATIONS REACHED LIMIT.\n",
            "\n",
            "Increase the number of iterations (max_iter) or scale the data as shown in:\n",
            "    https://scikit-learn.org/stable/modules/preprocessing.html\n",
            "  self.n_iter_ = _check_optimize_result(\"lbfgs\", opt_res, self.max_iter)\n",
            "/usr/local/lib/python3.10/dist-packages/sklearn/neural_network/_multilayer_perceptron.py:545: ConvergenceWarning: lbfgs failed to converge (status=1):\n",
            "STOP: TOTAL NO. of ITERATIONS REACHED LIMIT.\n",
            "\n",
            "Increase the number of iterations (max_iter) or scale the data as shown in:\n",
            "    https://scikit-learn.org/stable/modules/preprocessing.html\n",
            "  self.n_iter_ = _check_optimize_result(\"lbfgs\", opt_res, self.max_iter)\n",
            "/usr/local/lib/python3.10/dist-packages/sklearn/neural_network/_multilayer_perceptron.py:545: ConvergenceWarning: lbfgs failed to converge (status=1):\n",
            "STOP: TOTAL NO. of ITERATIONS REACHED LIMIT.\n",
            "\n",
            "Increase the number of iterations (max_iter) or scale the data as shown in:\n",
            "    https://scikit-learn.org/stable/modules/preprocessing.html\n",
            "  self.n_iter_ = _check_optimize_result(\"lbfgs\", opt_res, self.max_iter)\n",
            "/usr/local/lib/python3.10/dist-packages/sklearn/neural_network/_multilayer_perceptron.py:545: ConvergenceWarning: lbfgs failed to converge (status=1):\n",
            "STOP: TOTAL NO. of ITERATIONS REACHED LIMIT.\n",
            "\n",
            "Increase the number of iterations (max_iter) or scale the data as shown in:\n",
            "    https://scikit-learn.org/stable/modules/preprocessing.html\n",
            "  self.n_iter_ = _check_optimize_result(\"lbfgs\", opt_res, self.max_iter)\n",
            "/usr/local/lib/python3.10/dist-packages/sklearn/neural_network/_multilayer_perceptron.py:545: ConvergenceWarning: lbfgs failed to converge (status=1):\n",
            "STOP: TOTAL NO. of ITERATIONS REACHED LIMIT.\n",
            "\n",
            "Increase the number of iterations (max_iter) or scale the data as shown in:\n",
            "    https://scikit-learn.org/stable/modules/preprocessing.html\n",
            "  self.n_iter_ = _check_optimize_result(\"lbfgs\", opt_res, self.max_iter)\n",
            "/usr/local/lib/python3.10/dist-packages/sklearn/neural_network/_multilayer_perceptron.py:545: ConvergenceWarning: lbfgs failed to converge (status=1):\n",
            "STOP: TOTAL NO. of ITERATIONS REACHED LIMIT.\n",
            "\n",
            "Increase the number of iterations (max_iter) or scale the data as shown in:\n",
            "    https://scikit-learn.org/stable/modules/preprocessing.html\n",
            "  self.n_iter_ = _check_optimize_result(\"lbfgs\", opt_res, self.max_iter)\n"
          ]
        },
        {
          "output_type": "stream",
          "name": "stdout",
          "text": [
            "{'activation': 'relu', 'hidden_layer_sizes': (5, 10), 'max_iter': 4000, 'solver': 'lbfgs'}\n"
          ]
        }
      ]
    },
    {
      "cell_type": "code",
      "source": [
        "print(grid_search.best_params_)"
      ],
      "metadata": {
        "colab": {
          "base_uri": "https://localhost:8080/"
        },
        "id": "Jsz5YmmBcX2q",
        "outputId": "562d9e84-558b-42a3-fdcc-7979fa6f4268"
      },
      "execution_count": null,
      "outputs": [
        {
          "output_type": "stream",
          "name": "stdout",
          "text": [
            "{'activation': 'relu', 'hidden_layer_sizes': (5, 10), 'max_iter': 4000, 'solver': 'lbfgs'}\n"
          ]
        }
      ]
    },
    {
      "cell_type": "code",
      "source": [
        "# Training model with the tuned hypermarameters\n",
        "reg = predict(model_name=MLPRegressor,\n",
        "                   X_train=X_train_normalized,\n",
        "                   X_val=X_val_normalized,\n",
        "                   y_train=y_train_normalized,\n",
        "                   y_val=y_val_normalized,\n",
        "                   X_test=X_test_normalized,\n",
        "                   y_test=y_test_normalized,\n",
        "                   predict_on_test_set=True,\n",
        "                   calc_rmse=True,\n",
        "                   calc_r2=True,\n",
        "                   calc_mae=True,\n",
        "                   activation='relu',\n",
        "                   hidden_layer_sizes=(5, 10),\n",
        "                   max_iter=4000,\n",
        "                   solver='lbfgs'\n",
        "                   )"
      ],
      "metadata": {
        "colab": {
          "base_uri": "https://localhost:8080/"
        },
        "id": "Y_Z0TR8oZLYj",
        "outputId": "c9e15e61-9880-4345-9c84-fca72e55b92b"
      },
      "execution_count": null,
      "outputs": [
        {
          "output_type": "stream",
          "name": "stdout",
          "text": [
            "Calculations for MLPRegressor(hidden_layer_sizes=(5, 10), max_iter=4000, solver='lbfgs')\n",
            "\n",
            "RMSE train: 0.3932664686144688\n",
            "RMSE validation: 0.24563108539147335\n",
            "RMSE test: 0.4045203588610539\n",
            "\n",
            "R2 train: -0.45675721147437054\n",
            "R2 validation: 0.47100092668015503\n",
            "R2 test: 1.0\n",
            "\n",
            "MAE train: 0.28307057102839556\n",
            "MAE validation: 0.1817694176752165\n",
            "MAE test: 0.315024834091948\n"
          ]
        }
      ]
    },
    {
      "cell_type": "code",
      "source": [
        "# Linear regressor\n",
        "lr = predict(model_name=LinearRegression,\n",
        "                   X_train=X_train_normalized,\n",
        "                   X_val=X_val_normalized,\n",
        "                   y_train=y_train_normalized,\n",
        "                   y_val=y_val_normalized,\n",
        "                   X_test=X_test_normalized,\n",
        "                   y_test=y_test_normalized,\n",
        "                   predict_on_test_set=True,\n",
        "                   calc_rmse=True,\n",
        "                   calc_r2=True,\n",
        "                   calc_mae=True,\n",
        "                   )"
      ],
      "metadata": {
        "colab": {
          "base_uri": "https://localhost:8080/"
        },
        "id": "Bnny1KWUYNZL",
        "outputId": "6e3e79fb-4d93-4137-a467-2cccd8b323b9"
      },
      "execution_count": 40,
      "outputs": [
        {
          "output_type": "stream",
          "name": "stdout",
          "text": [
            "Calculations for LinearRegression()\n",
            "\n",
            "RMSE train: 0.3099608099430981\n",
            "RMSE validation: 0.3099143372358131\n",
            "RMSE test: 0.3423633728288618\n",
            "\n",
            "R2 train: 0.09504514569544364\n",
            "R2 validation: 0.15788463258038454\n",
            "R2 test: 1.0\n",
            "\n",
            "MAE train: 0.2583132627008037\n",
            "MAE validation: 0.25731029461158056\n",
            "MAE test: 0.28733890378972576\n"
          ]
        }
      ]
    },
    {
      "cell_type": "code",
      "source": [
        "#weighted linear regressor\n",
        "\n",
        "#adding weights\n",
        "sample_weight = np.ones(len(y_train_normalized))\n",
        "sample_weight[:10] = 2\n",
        "\n",
        "#training\n",
        "reg = LinearRegression()\n",
        "reg.fit(X_train_normalized, y_train_normalized, sample_weight=sample_weight)\n",
        "y_pred_train_normalized = reg.predict(X_train_normalized)\n",
        "y_pred_normalized = reg.predict(X_val_normalized)\n",
        "y_pred_val_normalized  = reg.predict(X_val_normalized)\n",
        "\n",
        "#calculating rmse\n",
        "rmse_train_normalized = np.sqrt(np.mean((y_pred_train_normalized - y_train_normalized)**2))\n",
        "rmse_validation_normalized = np.sqrt(np.mean((y_pred_normalized - y_val_normalized)**2))\n",
        "\n",
        "print(rmse_train_normalized, rmse_validation_normalized)\n"
      ],
      "metadata": {
        "colab": {
          "base_uri": "https://localhost:8080/"
        },
        "id": "fv97XTHdhELw",
        "outputId": "f4798908-0963-410a-e624-87f95c633c83"
      },
      "execution_count": null,
      "outputs": [
        {
          "output_type": "stream",
          "name": "stdout",
          "text": [
            "0.2950194033215973 0.3252042067301469\n"
          ]
        }
      ]
    },
    {
      "cell_type": "code",
      "source": [
        "reg.fit(X_train_normalized, y_train_normalized)\n",
        "reg.fit(X_val_normalized, y_val_normalized)\n",
        "\n",
        "rmse_train = root_mean_squared_error(y_train_normalized, y_pred_train_normalized)\n",
        "rmse_validation = root_mean_squared_error(y_val_normalized, y_pred_val_normalized)\n",
        "print(f'\\nRMSE train: {rmse_train}')\n",
        "print(f'RMSE validation: {rmse_validation}')\n",
        "\n",
        "rmse_test = root_mean_squared_error(y_test_normalized, y_pred_normalized)\n",
        "print(f'RMSE test: {rmse_test}')\n",
        "\n",
        "# Making test predictions\n",
        "y_pred_normalized = reg.predict(X_test_normalized)\n",
        "\n",
        "r2_train = r2_score(y_train_normalized, y_pred_train_normalized)\n",
        "r2_validation = r2_score(y_val_normalized, y_pred_val_normalized)\n",
        "print(f'\\nR2 train: {r2_train}')\n",
        "print(f'R2 validation: {r2_validation}')\n",
        "\n",
        "r2_test = r2_score(y_test_normalized, y_test_normalized)\n",
        "print(f'R2 test: {r2_test}')\n",
        "\n",
        "mae_train = mean_absolute_error(y_train_normalized, y_pred_train_normalized)\n",
        "mae_validation = mean_absolute_error(y_val_normalized, y_pred_val_normalized)\n",
        "print(f'\\nMAE train: {mae_train}')\n",
        "print(f'MAE validation: {mae_validation}')\n",
        "\n",
        "mae_test = mean_absolute_error(y_test_normalized, y_pred_normalized)\n",
        "print(f'MAE test: {mae_test}')"
      ],
      "metadata": {
        "colab": {
          "base_uri": "https://localhost:8080/"
        },
        "id": "R1iWYk37zz5t",
        "outputId": "72f764c4-8f9e-4684-f4fe-78d9478c4762"
      },
      "execution_count": null,
      "outputs": [
        {
          "output_type": "stream",
          "name": "stdout",
          "text": [
            "\n",
            "RMSE train: 0.2950194033215973\n",
            "RMSE validation: 0.3252042067301469\n",
            "RMSE test: 0.3685307558938234\n",
            "\n",
            "R2 train: 0.18018756678829706\n",
            "R2 validation: 0.07274204818218388\n",
            "R2 test: 1.0\n",
            "\n",
            "MAE train: 0.2428559703101832\n",
            "MAE validation: 0.26637236671308195\n",
            "MAE test: 0.28733890378972576\n"
          ]
        }
      ]
    },
    {
      "cell_type": "code",
      "source": [
        "# SVM with linear kernel\n",
        "svm_linear = predict(model_name=SVR,\n",
        "                   X_train=X_train_normalized,\n",
        "                   X_val=X_val_normalized,\n",
        "                   y_train=y_train_normalized,\n",
        "                   y_val=y_val_normalized,\n",
        "                   X_test=X_test_normalized,\n",
        "                   y_test=y_test_normalized,\n",
        "                   predict_on_test_set=True,\n",
        "                   calc_rmse=True,\n",
        "                   calc_r2=True,\n",
        "                   calc_mae=True,\n",
        "                   kernel='linear')"
      ],
      "metadata": {
        "colab": {
          "base_uri": "https://localhost:8080/"
        },
        "id": "wYjI6doZ9u4k",
        "outputId": "2b870d38-5c9f-4d02-d1bf-1d8abf3dbfa3"
      },
      "execution_count": 39,
      "outputs": [
        {
          "output_type": "stream",
          "name": "stdout",
          "text": [
            "Calculations for SVR(kernel='linear')\n",
            "\n",
            "RMSE train: 0.320403033043375\n",
            "RMSE validation: 0.3206069475578251\n",
            "RMSE test: 0.3596145373619021\n",
            "\n",
            "R2 train: 0.0330443015955737\n",
            "R2 validation: 0.09877316411824266\n",
            "R2 test: 1.0\n",
            "\n",
            "MAE train: 0.25432746628951564\n",
            "MAE validation: 0.2538213043072977\n",
            "MAE test: 0.2913989245458545\n"
          ]
        }
      ]
    },
    {
      "cell_type": "code",
      "source": [
        "# SVM with rbf kernel\n",
        "svm_rbf = predict(model_name=SVR,\n",
        "                   X_train=X_train_normalized,\n",
        "                   X_val=X_val_normalized,\n",
        "                   y_train=y_train_normalized,\n",
        "                   y_val=y_val_normalized,\n",
        "                   X_test=X_test_normalized,\n",
        "                   y_test=y_test_normalized,\n",
        "                   predict_on_test_set=True,\n",
        "                   calc_rmse=True,\n",
        "                   calc_r2=True,\n",
        "                   calc_mae=True,\n",
        "                   kernel='rbf')"
      ],
      "metadata": {
        "id": "2J-Cnzke3_zm",
        "colab": {
          "base_uri": "https://localhost:8080/"
        },
        "outputId": "aa91d67a-ef8e-4de4-ce38-c78d38b45b1b"
      },
      "execution_count": 38,
      "outputs": [
        {
          "output_type": "stream",
          "name": "stdout",
          "text": [
            "Calculations for SVR()\n",
            "\n",
            "RMSE train: 0.3205885132207753\n",
            "RMSE validation: 0.2634252600883089\n",
            "RMSE test: 0.3543523551297008\n",
            "\n",
            "R2 train: 0.03192444311211484\n",
            "R2 validation: 0.3915805464301124\n",
            "R2 test: 1.0\n",
            "\n",
            "MAE train: 0.25403944137539786\n",
            "MAE validation: 0.20489175042676472\n",
            "MAE test: 0.27986414882165256\n"
          ]
        }
      ]
    },
    {
      "cell_type": "code",
      "source": [
        "# SVM with poly kernel\n",
        "svm_poly = predict(model_name=SVR,\n",
        "                   X_train=X_train_normalized,\n",
        "                   X_val=X_val_normalized,\n",
        "                   y_train=y_train_normalized,\n",
        "                   y_val=y_val_normalized,\n",
        "                   X_test=X_test_normalized,\n",
        "                   y_test=y_test_normalized,\n",
        "                   predict_on_test_set=True,\n",
        "                   calc_rmse=True,\n",
        "                   calc_r2=True,\n",
        "                   calc_mae=True,\n",
        "                   kernel='poly')"
      ],
      "metadata": {
        "colab": {
          "base_uri": "https://localhost:8080/"
        },
        "id": "UI5-SyHtYtT2",
        "outputId": "e1039b46-80c1-44a9-a9e3-00a7f3fec5d8"
      },
      "execution_count": 41,
      "outputs": [
        {
          "output_type": "stream",
          "name": "stdout",
          "text": [
            "Calculations for SVR(kernel='poly')\n",
            "\n",
            "RMSE train: 0.34631331330432835\n",
            "RMSE validation: 0.272860538470692\n",
            "RMSE test: 0.3790722129309095\n",
            "\n",
            "R2 train: -0.12967030991592554\n",
            "R2 validation: 0.34721567048235646\n",
            "R2 test: 1.0\n",
            "\n",
            "MAE train: 0.2701770933251739\n",
            "MAE validation: 0.2093070490169022\n",
            "MAE test: 0.295137890161221\n"
          ]
        }
      ]
    },
    {
      "cell_type": "code",
      "source": [
        "# regressor part\n",
        "for iter in [3, 5, 10]:\n",
        "  scores_regressor = cross_validation(svm_linear, X_train_normalized, y_train_normalized, cv=iter, scoring='neg_root_mean_squared_error')\n",
        "  print(f\"\\nRegression scores for {iter}-fold:\")\n",
        "  print_scores(scores_regressor)"
      ],
      "metadata": {
        "colab": {
          "base_uri": "https://localhost:8080/"
        },
        "id": "zMGbrDwKZWcx",
        "outputId": "8ff9fe2d-c1b1-4d44-81fc-0315745243da"
      },
      "execution_count": null,
      "outputs": [
        {
          "output_type": "stream",
          "name": "stdout",
          "text": [
            "\n",
            "Regression scores for 3-fold:\n",
            "Mean: 0.30362082595833356\n",
            "\n",
            "Regression scores for 5-fold:\n",
            "Mean: 0.30329528076662077\n",
            "\n",
            "Regression scores for 10-fold:\n",
            "Mean: 0.2999329240237262\n"
          ]
        }
      ]
    },
    {
      "cell_type": "code",
      "source": [
        "# R2 metric\n",
        "for iter in [3, 5, 10]:\n",
        "  scores_regressor = cross_validation(svm_linear, X_train_normalized, y_train_normalized, cv=iter, scoring='r2')\n",
        "  print(f\"\\nRegression scores for {iter}-fold:\")\n",
        "  print_scores(scores_regressor)"
      ],
      "metadata": {
        "colab": {
          "base_uri": "https://localhost:8080/"
        },
        "id": "w_NgJ51eZXbH",
        "outputId": "77aa7b88-9506-4186-e859-c7797f32f824"
      },
      "execution_count": null,
      "outputs": [
        {
          "output_type": "stream",
          "name": "stdout",
          "text": [
            "\n",
            "Regression scores for 3-fold:\n",
            "Mean: 0.12463352824782799\n",
            "\n",
            "Regression scores for 5-fold:\n",
            "Mean: 0.11760635614157067\n",
            "\n",
            "Regression scores for 10-fold:\n",
            "Mean: 0.1254540416484454\n"
          ]
        }
      ]
    },
    {
      "cell_type": "code",
      "source": [
        "# Mean absolute error metric\n",
        "for iter in [3, 5, 10]:\n",
        "  scores_regressor = cross_validation(svm_linear, X_train_normalized, y_train_normalized, cv=iter, scoring='neg_mean_absolute_error')\n",
        "  print(f\"\\nRegression scores for {iter}-fold:\")\n",
        "  print_scores(scores_regressor)\n"
      ],
      "metadata": {
        "colab": {
          "base_uri": "https://localhost:8080/"
        },
        "id": "oFrCDAJYZYWx",
        "outputId": "06780079-f276-446d-9062-16a0c957275c"
      },
      "execution_count": null,
      "outputs": [
        {
          "output_type": "stream",
          "name": "stdout",
          "text": [
            "\n",
            "Regression scores for 3-fold:\n",
            "Mean: 0.2408616905868691\n",
            "\n",
            "Regression scores for 5-fold:\n",
            "Mean: 0.2421527930835281\n",
            "\n",
            "Regression scores for 10-fold:\n",
            "Mean: 0.24021267260516344\n"
          ]
        }
      ]
    },
    {
      "cell_type": "code",
      "source": [
        "reg = SVR()\n",
        "parameters = [\n",
        "              {'kernel':('linear', 'rbf',), 'tol':[1e-1, 1e-2, 1e-3, 1e-4], 'C':[0.01, 0.1, 0.5, 1, 1.5, 10]},\n",
        "              {'kernel':['poly'], 'tol':[1e-1, 1e-2, 1e-3, 1e-4], 'C':[0.01, 0.1, 0.5, 1, 1.5, 10], 'degree':[2,3,4]}\n",
        "              ]\n",
        "\n",
        "grid_search = GridSearchCV(reg, parameters, cv=5, scoring='neg_root_mean_squared_error')\n",
        "grid_search.fit(X_train_normalized, y_train_normalized)\n",
        "print(grid_search.best_params_) # to get the best parameters"
      ],
      "metadata": {
        "colab": {
          "base_uri": "https://localhost:8080/"
        },
        "id": "tEIWZ8QsZaL6",
        "outputId": "e4b0b70d-a08f-4d8f-fe19-f18e8e57492f"
      },
      "execution_count": null,
      "outputs": [
        {
          "output_type": "stream",
          "name": "stdout",
          "text": [
            "{'C': 0.1, 'kernel': 'rbf', 'tol': 0.0001}\n"
          ]
        }
      ]
    },
    {
      "cell_type": "code",
      "source": [
        "reg = predict(model_name=SVR,\n",
        "                   X_train=X_train_normalized,\n",
        "                   X_val=X_val_normalized,\n",
        "                   y_train=y_train_normalized,\n",
        "                   y_val=y_val_normalized,\n",
        "                   X_test=X_test_normalized,\n",
        "                   y_test=y_test_normalized,\n",
        "                   predict_on_test_set=True,\n",
        "                   calc_rmse=True,\n",
        "                   calc_r2=True,\n",
        "                   calc_mae=True,\n",
        "                   kernel='rbf',\n",
        "                   tol=0.001,\n",
        "                   C=0.1\n",
        "                   )"
      ],
      "metadata": {
        "colab": {
          "base_uri": "https://localhost:8080/"
        },
        "id": "m8n5-e3-Za5R",
        "outputId": "7b8e0e0a-6ecb-4283-cefd-284c6b818fa6"
      },
      "execution_count": 37,
      "outputs": [
        {
          "output_type": "stream",
          "name": "stdout",
          "text": [
            "Calculations for SVR(C=0.1)\n",
            "\n",
            "RMSE train: 0.3104102868455534\n",
            "RMSE validation: 0.3106429022843228\n",
            "RMSE test: 0.34694355477896305\n",
            "\n",
            "R2 train: 0.09241867672150661\n",
            "R2 validation: 0.15392058885631577\n",
            "R2 test: 1.0\n",
            "\n",
            "MAE train: 0.25241364025076624\n",
            "MAE validation: 0.25056780874790796\n",
            "MAE test: 0.2821207302610123\n"
          ]
        }
      ]
    },
    {
      "cell_type": "code",
      "source": [
        "# Random forest regressor\n",
        "rfr = predict(model_name=RandomForestRegressor,\n",
        "                   X_train=X_train_normalized,\n",
        "                   X_val=X_val_normalized,\n",
        "                   y_train=y_train_normalized,\n",
        "                   y_val=y_val_normalized,\n",
        "                   X_test=X_test_normalized,\n",
        "                   y_test=y_test_normalized,\n",
        "                   predict_on_test_set=True,\n",
        "                   calc_rmse=True,\n",
        "                   calc_r2=True,\n",
        "                   calc_mae=True,\n",
        "                   random_state=42,\n",
        "                   n_estimators=100)"
      ],
      "metadata": {
        "colab": {
          "base_uri": "https://localhost:8080/"
        },
        "id": "nHCxdwykYxDk",
        "outputId": "121c6f1c-82fe-4f0d-9286-fdab310dd285"
      },
      "execution_count": 46,
      "outputs": [
        {
          "output_type": "stream",
          "name": "stdout",
          "text": [
            "Calculations for RandomForestRegressor(random_state=42)\n",
            "\n",
            "RMSE train: 0.31611525989035855\n",
            "RMSE validation: 0.11805580243982906\n",
            "RMSE test: 0.335743445097482\n",
            "\n",
            "R2 train: 0.058751575801820444\n",
            "R2 validation: 0.8778023281448446\n",
            "R2 test: 1.0\n",
            "\n",
            "MAE train: 0.23982924107142858\n",
            "MAE validation: 0.09297222222222233\n",
            "MAE test: 0.2549411111111111\n"
          ]
        }
      ]
    },
    {
      "cell_type": "code",
      "source": [
        "# Random forest regressor\n",
        "rfr = predict(model_name=RandomForestRegressor,\n",
        "                   X_train=X_train_normalized,\n",
        "                   X_val=X_val_normalized,\n",
        "                   y_train=y_train_normalized,\n",
        "                   y_val=y_val_normalized,\n",
        "                   calc_rmse=True,\n",
        "                   random_state=42,\n",
        "                   n_estimators=200)"
      ],
      "metadata": {
        "colab": {
          "base_uri": "https://localhost:8080/"
        },
        "id": "R_6i5g52ZcbZ",
        "outputId": "9131fdd6-ad82-4ffb-d2d6-ba628b31fe54"
      },
      "execution_count": null,
      "outputs": [
        {
          "output_type": "stream",
          "name": "stdout",
          "text": [
            "Calculations for RandomForestRegressor(random_state=42)\n",
            "\n",
            "RMSE train: 0.31611525989035855\n",
            "RMSE validation: 0.11805580243982906\n"
          ]
        }
      ]
    },
    {
      "cell_type": "code",
      "source": [
        "# regressor part\n",
        "for iter in [3, 5, 10]:\n",
        "  scores_regressor = cross_validation(rfr, X_train_normalized, y_train_normalized, cv=iter, scoring='neg_root_mean_squared_error')\n",
        "  print(f\"\\nRegression scores for {iter}-fold:\")\n",
        "  print_scores(scores_regressor)"
      ],
      "metadata": {
        "colab": {
          "base_uri": "https://localhost:8080/"
        },
        "id": "NkcWD5UGZdP9",
        "outputId": "d89ea10b-7698-4deb-cea6-535767bb47bb"
      },
      "execution_count": null,
      "outputs": [
        {
          "output_type": "stream",
          "name": "stdout",
          "text": [
            "\n",
            "Regression scores for 3-fold:\n",
            "Mean: 0.30668425081622314\n",
            "\n",
            "Regression scores for 5-fold:\n",
            "Mean: 0.29436526935180457\n",
            "\n",
            "Regression scores for 10-fold:\n",
            "Mean: 0.2877768426109054\n"
          ]
        }
      ]
    },
    {
      "cell_type": "code",
      "source": [
        "reg = RandomForestRegressor()\n",
        "parameters = {'n_estimators':[10, 50, 100, 200, 350, 500, 650, 850, 1000],\n",
        "              'criterion':['squared_error', 'absolute_error', 'friedman_mse', 'poisson'],\n",
        "              }\n",
        "\n",
        "grid_search = GridSearchCV(reg, parameters, cv=5, scoring='neg_root_mean_squared_error')\n",
        "grid_search.fit(X_train_normalized, y_train_normalized)\n",
        "print(grid_search.best_params_) # to get the best parameters"
      ],
      "metadata": {
        "colab": {
          "base_uri": "https://localhost:8080/"
        },
        "id": "kwVX1LSSZepy",
        "outputId": "2281e47e-3e6e-415c-c8d8-1e7883e75457"
      },
      "execution_count": 9,
      "outputs": [
        {
          "output_type": "stream",
          "name": "stderr",
          "text": [
            "/usr/local/lib/python3.10/dist-packages/numpy/ma/core.py:2820: RuntimeWarning: invalid value encountered in cast\n",
            "  _data = np.array(data, dtype=dtype, copy=copy,\n"
          ]
        },
        {
          "output_type": "stream",
          "name": "stdout",
          "text": [
            "{'criterion': 'absolute_error', 'n_estimators': 200}\n"
          ]
        }
      ]
    },
    {
      "cell_type": "code",
      "source": [
        "reg = RandomForestRegressor()\n",
        "parameters = {'n_estimators':[10, 50, 100, 200, 350, 500, 650, 850, 1000, 2000],\n",
        "              'criterion':['squared_error', 'absolute_error', 'friedman_mse', 'poisson'],\n",
        "              }\n",
        "\n",
        "grid_search = GridSearchCV(reg, parameters, cv=5, scoring='neg_root_mean_squared_error')\n",
        "grid_search.fit(X_train_normalized, y_train_normalized)\n",
        "print(grid_search.best_params_) # to get the best parameters"
      ],
      "metadata": {
        "colab": {
          "base_uri": "https://localhost:8080/"
        },
        "id": "ixtGIOto3e6h",
        "outputId": "5a2453bc-4815-48cf-fb12-78efc957f6bd"
      },
      "execution_count": 26,
      "outputs": [
        {
          "output_type": "stream",
          "name": "stderr",
          "text": [
            "/usr/local/lib/python3.10/dist-packages/numpy/ma/core.py:2820: RuntimeWarning: invalid value encountered in cast\n",
            "  _data = np.array(data, dtype=dtype, copy=copy,\n"
          ]
        },
        {
          "output_type": "stream",
          "name": "stdout",
          "text": [
            "{'criterion': 'absolute_error', 'n_estimators': 850}\n"
          ]
        }
      ]
    },
    {
      "cell_type": "code",
      "source": [
        "# Creating model\n",
        "reg = RandomForestRegressor(n_estimators=200, criterion='absolute_error', random_state=42)\n",
        "\n",
        "# Training model\n",
        "reg.fit(X_train_normalized, y_train_normalized)\n",
        "reg.fit(X_val_normalized, y_val_normalized)\n",
        "\n",
        "# Making train and validation predictions\n",
        "y_pred_train_normalized = reg.predict(X_train_normalized)\n",
        "y_pred_val_normalized = reg.predict(X_val_normalized)\n",
        "reg.fit(X_train_normalized, y_train_normalized)\n",
        "\n",
        "# Predicting value on test set\n",
        "y_pred_normalized = reg.predict(X_test_normalized)\n",
        "\n",
        "# RMSE, R2, MAE score\n",
        "rmse = root_mean_squared_error(y_test_normalized, y_pred_normalized)\n",
        "r2 = r2_score(y_test_normalized, y_pred_normalized)\n",
        "mae = mean_absolute_error(y_test_normalized, y_pred_normalized)\n",
        "\n",
        "\n",
        "print(f\"RMSE: {rmse}\")\n",
        "print(f\"R2: {r2}\")\n",
        "print(f\"MAE: {mae}\")"
      ],
      "metadata": {
        "colab": {
          "base_uri": "https://localhost:8080/"
        },
        "id": "gTANYYTHZfvg",
        "outputId": "448d7c0e-dc1d-417a-f93f-8ffb0dc263b3"
      },
      "execution_count": 10,
      "outputs": [
        {
          "output_type": "stream",
          "name": "stdout",
          "text": [
            "RMSE: 0.30742090220268226\n",
            "R2: 0.2215346871949233\n",
            "MAE: 0.2304666666666667\n"
          ]
        }
      ]
    },
    {
      "cell_type": "code",
      "source": [
        "# Random forest regressor\n",
        "rfr = predict(model_name=RandomForestRegressor,\n",
        "                   X_train=X_train_normalized,\n",
        "                   X_val=X_val_normalized,\n",
        "                   y_train=y_train_normalized,\n",
        "                   y_val=y_val_normalized,\n",
        "                   X_test=X_test_normalized,\n",
        "                   y_test=y_test_normalized,\n",
        "                   predict_on_test_set=True,\n",
        "                   calc_rmse=True,\n",
        "                   calc_r2=True,\n",
        "                   calc_mae=True,\n",
        "                   random_state=42,\n",
        "                   n_estimators=200,\n",
        "                   criterion='absolute_error')"
      ],
      "metadata": {
        "colab": {
          "base_uri": "https://localhost:8080/"
        },
        "id": "hUudkhPTZg2p",
        "outputId": "438b488a-142e-4f84-c505-5ad0ff142e06"
      },
      "execution_count": 23,
      "outputs": [
        {
          "output_type": "stream",
          "name": "stdout",
          "text": [
            "Calculations for RandomForestRegressor(criterion='absolute_error', n_estimators=200,\n",
            "                      random_state=42)\n",
            "\n",
            "RMSE train: 0.3138344301397962\n",
            "RMSE validation: 0.12540392146387805\n",
            "RMSE test: 0.3346231711442988\n",
            "\n",
            "R2 train: 0.07228513651627966\n",
            "R2 validation: 0.8621170738439559\n",
            "R2 test: 1.0\n",
            "\n",
            "MAE train: 0.23938430059523808\n",
            "MAE validation: 0.09913888888888872\n",
            "MAE test: 0.2601666666666667\n"
          ]
        }
      ]
    },
    {
      "cell_type": "code",
      "source": [
        "# Random forest regressor\n",
        "rfr = predict(model_name=RandomForestRegressor,\n",
        "                   X_train=X_train_normalized,\n",
        "                   X_val=X_val_normalized,\n",
        "                   y_train=y_train_normalized,\n",
        "                   y_val=y_val_normalized,\n",
        "                   X_test=X_test_normalized,\n",
        "                   y_test=y_test_normalized,\n",
        "                   predict_on_test_set=True,\n",
        "                   calc_rmse=True,\n",
        "                   calc_r2=True,\n",
        "                   calc_mae=True,\n",
        "                   random_state=42,\n",
        "                   n_estimators=200,\n",
        "                   criterion='squared_error')"
      ],
      "metadata": {
        "colab": {
          "base_uri": "https://localhost:8080/"
        },
        "id": "hpj5WoIK292v",
        "outputId": "9974fd43-3e13-42be-d900-4a54b992068c"
      },
      "execution_count": 24,
      "outputs": [
        {
          "output_type": "stream",
          "name": "stdout",
          "text": [
            "Calculations for RandomForestRegressor(n_estimators=200, random_state=42)\n",
            "\n",
            "RMSE train: 0.3158931556153219\n",
            "RMSE validation: 0.12006190549114125\n",
            "RMSE test: 0.3371414636739268\n",
            "\n",
            "R2 train: 0.0600737635207681\n",
            "R2 validation: 0.8736140724407622\n",
            "R2 test: 1.0\n",
            "\n",
            "MAE train: 0.23845037910997732\n",
            "MAE validation: 0.094202222222222\n",
            "MAE test: 0.2566994973544973\n"
          ]
        }
      ]
    },
    {
      "cell_type": "code",
      "source": [
        "# Random forest regressor\n",
        "rfr = predict(model_name=RandomForestRegressor,\n",
        "                   X_train=X_train_normalized,\n",
        "                   X_val=X_val_normalized,\n",
        "                   y_train=y_train_normalized,\n",
        "                   y_val=y_val_normalized,\n",
        "                   X_test=X_test_normalized,\n",
        "                   y_test=y_test_normalized,\n",
        "                   predict_on_test_set=True,\n",
        "                   calc_rmse=True,\n",
        "                   calc_r2=True,\n",
        "                   calc_mae=True,\n",
        "                   random_state=42,\n",
        "                   n_estimators=850,\n",
        "                   criterion='absolute_error')"
      ],
      "metadata": {
        "colab": {
          "base_uri": "https://localhost:8080/"
        },
        "id": "egdZ31l_3aKf",
        "outputId": "9c7f712d-61ca-4bfd-8596-47b85640d542"
      },
      "execution_count": 27,
      "outputs": [
        {
          "output_type": "stream",
          "name": "stdout",
          "text": [
            "Calculations for RandomForestRegressor(criterion='absolute_error', n_estimators=850,\n",
            "                      random_state=42)\n",
            "\n",
            "RMSE train: 0.31285273550985515\n",
            "RMSE validation: 0.12596248849155195\n",
            "RMSE test: 0.33487316961546737\n",
            "\n",
            "R2 train: 0.07807996459463384\n",
            "R2 validation: 0.8608860377266916\n",
            "R2 test: 1.0\n",
            "\n",
            "MAE train: 0.23781512605042004\n",
            "MAE validation: 0.0993816993464043\n",
            "MAE test: 0.25929803921568617\n"
          ]
        }
      ]
    },
    {
      "cell_type": "code",
      "source": [
        "# Random forest regressor\n",
        "rfr = predict(model_name=RandomForestRegressor,\n",
        "                   X_train=X_train_normalized,\n",
        "                   X_val=X_val_normalized,\n",
        "                   y_train=y_train_normalized,\n",
        "                   y_val=y_val_normalized,\n",
        "                   X_test=X_test_normalized,\n",
        "                   y_test=y_test_normalized,\n",
        "                   predict_on_test_set=True,\n",
        "                   calc_rmse=True,\n",
        "                   calc_r2=True,\n",
        "                   calc_mae=True,\n",
        "                   random_state=42,\n",
        "                   n_estimators=850,\n",
        "                   criterion='squared_error')"
      ],
      "metadata": {
        "colab": {
          "base_uri": "https://localhost:8080/"
        },
        "id": "AeuhCHezaypz",
        "outputId": "21c26667-4c7b-483b-fd62-0bd0a374a763"
      },
      "execution_count": 28,
      "outputs": [
        {
          "output_type": "stream",
          "name": "stdout",
          "text": [
            "Calculations for RandomForestRegressor(n_estimators=850, random_state=42)\n",
            "\n",
            "RMSE train: 0.31435265760418957\n",
            "RMSE validation: 0.11747129018887352\n",
            "RMSE test: 0.33488533258726544\n",
            "\n",
            "R2 train: 0.06921877913099717\n",
            "R2 validation: 0.879009371156291\n",
            "R2 test: 1.0\n",
            "\n",
            "MAE train: 0.23611217403628101\n",
            "MAE validation: 0.09225049486461148\n",
            "MAE test: 0.2562832586367878\n"
          ]
        }
      ]
    }
  ]
}